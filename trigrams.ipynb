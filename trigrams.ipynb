{
 "cells": [
  {
   "cell_type": "code",
   "execution_count": 2,
   "id": "3b6b2cb0-3206-427b-831f-579a3b0d3f9b",
   "metadata": {},
   "outputs": [
    {
     "name": "stdout",
     "output_type": "stream",
     "text": [
      "Cleaned Text: HELLOWORLDITSALOVELYDAY\n",
      "Trigram: HEL, Count: 1\n",
      "Trigram: ELL, Count: 1\n",
      "Trigram: LLO, Count: 1\n",
      "Trigram: LO , Count: 1\n",
      "Trigram: O W, Count: 1\n",
      "Trigram:  WO, Count: 1\n",
      "Trigram: WOR, Count: 1\n",
      "Trigram: ORL, Count: 1\n",
      "Trigram: RLD, Count: 1\n",
      "Trigram: LD , Count: 1\n",
      "Trigram: D I, Count: 1\n",
      "Trigram:  IT, Count: 1\n",
      "Trigram: ITS, Count: 1\n",
      "Trigram: TS , Count: 1\n",
      "Trigram: S A, Count: 1\n",
      "Trigram:  A , Count: 1\n",
      "Trigram: A L, Count: 1\n",
      "Trigram:  LO, Count: 1\n",
      "Trigram: LOV, Count: 1\n",
      "Trigram: OVE, Count: 1\n",
      "Trigram: VEL, Count: 1\n",
      "Trigram: ELY, Count: 1\n",
      "Trigram: LY , Count: 1\n",
      "Trigram: Y D, Count: 1\n",
      "Trigram:  DA, Count: 1\n",
      "Trigram: DAY, Count: 1\n"
     ]
    }
   ],
   "source": [
    "# Task 1: Third-order letter approximation model\n",
    "import re\n",
    "from collections import defaultdict\n",
    "\n",
    "def clean_text(input_text):\n",
    "    # Remove preamble and postamble (non-letter characters at the start and end of the text)\n",
    "    cleaned_text = re.sub(r'^[^A-Za-z]+|[^A-Za-z]+$', '', input_text)\n",
    "    \n",
    "    # Remove all characters except ASCII letters (uppercase and lowercase)\n",
    "    cleaned_text = re.sub(r'[^A-Za-z]', '', cleaned_text)\n",
    "    \n",
    "    # Convert to uppercase\n",
    "    cleaned_text = cleaned_text.upper()\n",
    "    \n",
    "    return cleaned_text\n",
    "\n",
    "# Example usage\n",
    "input_text = \"1234..Hello World! It's a lovely day...5678\"\n",
    "output = clean_text(input_text)\n",
    "print(\"Cleaned Text:\", output)"
   ]
  },
  {
   "cell_type": "code",
   "execution_count": null,
   "id": "c177c0d6-b572-4f68-acd8-2d370beefacc",
   "metadata": {},
   "outputs": [],
   "source": [
    "# Task 2: Third-order letter approximation generation\n"
   ]
  }
 ],
 "metadata": {
  "kernelspec": {
   "display_name": "Python 3 (ipykernel)",
   "language": "python",
   "name": "python3"
  },
  "language_info": {
   "codemirror_mode": {
    "name": "ipython",
    "version": 3
   },
   "file_extension": ".py",
   "mimetype": "text/x-python",
   "name": "python",
   "nbconvert_exporter": "python",
   "pygments_lexer": "ipython3",
   "version": "3.12.4"
  }
 },
 "nbformat": 4,
 "nbformat_minor": 5
}
