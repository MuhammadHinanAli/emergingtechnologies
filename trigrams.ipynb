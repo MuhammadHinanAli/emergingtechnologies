{
 "cells": [
  {
   "cell_type": "code",
   "execution_count": 1,
   "id": "3b6b2cb0-3206-427b-831f-579a3b0d3f9b",
   "metadata": {},
   "outputs": [
    {
     "name": "stdout",
     "output_type": "stream",
     "text": [
      "Cleaned Text: HELLOWORLDITSALOVELYDAY\n",
      "Trigram: HEL, Count: 1\n",
      "Trigram: ELL, Count: 1\n",
      "Trigram: LLO, Count: 1\n",
      "Trigram: LOW, Count: 1\n",
      "Trigram: OWO, Count: 1\n",
      "Trigram: WOR, Count: 1\n",
      "Trigram: ORL, Count: 1\n",
      "Trigram: RLD, Count: 1\n",
      "Trigram: LDI, Count: 1\n",
      "Trigram: DIT, Count: 1\n",
      "Trigram: ITS, Count: 1\n",
      "Trigram: TSA, Count: 1\n",
      "Trigram: SAL, Count: 1\n",
      "Trigram: ALO, Count: 1\n",
      "Trigram: LOV, Count: 1\n",
      "Trigram: OVE, Count: 1\n",
      "Trigram: VEL, Count: 1\n",
      "Trigram: ELY, Count: 1\n",
      "Trigram: LYD, Count: 1\n",
      "Trigram: YDA, Count: 1\n",
      "Trigram: DAY, Count: 1\n"
     ]
    }
   ],
   "source": [
    "# Task 1: Third-order letter approximation model\n",
    "import re\n",
    "from collections import defaultdict\n",
    "\n",
    "def clean_text(input_text):\n",
    "    # Remove preamble and postamble (non-letter characters at the start and end of the text)\n",
    "    cleaned_text = re.sub(r'^[^A-Za-z]+|[^A-Za-z]+$', '', input_text)\n",
    "    \n",
    "    # Remove all characters except ASCII letters (uppercase and lowercase)\n",
    "    cleaned_text = re.sub(r'[^A-Za-z]', '', cleaned_text)\n",
    "    \n",
    "    # Convert to uppercase\n",
    "    cleaned_text = cleaned_text.upper()\n",
    "    \n",
    "    return cleaned_text\n",
    "\n",
    "# Example usage\n",
    "input_text = \"1234..Hello World! It's a lovely day...5678\"\n",
    "output = clean_text(input_text)\n",
    "print(\"Cleaned Text:\", output)\n",
    "\n",
    "def build_trigram_model(text):\n",
    "    # Dictionary to store trigram counts\n",
    "    trigram_counts = defaultdict(int)\n",
    "    \n",
    "    # Process text and count trigrams\n",
    "    for i in range(len(text) - 2):\n",
    "        trigram = text[i:i+3]\n",
    "        trigram_counts[trigram] += 1\n",
    "    \n",
    "    return trigram_counts\n",
    "\n",
    "# Example usage\n",
    "trigram_model = build_trigram_model(output)\n",
    "\n",
    "# Display results\n",
    "for trigram, count in trigram_model.items():\n",
    "    print(f\"Trigram: {trigram}, Count: {count}\")"
   ]
  },
  {
   "cell_type": "code",
   "execution_count": 2,
   "id": "c177c0d6-b572-4f68-acd8-2d370beefacc",
   "metadata": {},
   "outputs": [],
   "source": [
    "# Task 2: Third-order letter approximation generation\n"
   ]
  }
 ],
 "metadata": {
  "kernelspec": {
   "display_name": "Python 3 (ipykernel)",
   "language": "python",
   "name": "python3"
  },
  "language_info": {
   "codemirror_mode": {
    "name": "ipython",
    "version": 3
   },
   "file_extension": ".py",
   "mimetype": "text/x-python",
   "name": "python",
   "nbconvert_exporter": "python",
   "pygments_lexer": "ipython3",
   "version": "3.12.4"
  }
 },
 "nbformat": 4,
 "nbformat_minor": 5
}
