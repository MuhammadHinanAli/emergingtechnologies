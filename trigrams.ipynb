{
 "cells": [
  {
   "cell_type": "code",
   "execution_count": null,
   "id": "3b6b2cb0-3206-427b-831f-579a3b0d3f9b",
   "metadata": {},
   "outputs": [],
   "source": [
    "# Task 1: Third-order letter approximation model\n",
    "import re\n",
    "from collections import defaultdict\n",
    "\n",
    "def clean_text(file_paths):\n",
    "\n",
    "    cleaned_text = ''\n",
    "\n",
    "     # Iterate over file paths\n",
    "    for path in file_paths:\n",
    "        # Open file for reading\n",
    "        # Use utf-8 encoding to support non-ASCII characters\n",
    "        with open(path, 'r', encoding='utf-8') as file:\n",
    "            # Read the file content\n",
    "            text = file.read()\n",
    "            # Remove unwanted characters and convert to uppercase\n",
    "            # Only keep alphabetic characters, spaces, and full stops\n",
    "            # ''.join() creates a new string by joining the characters\n",
    "            cleaned_text += ''.join(\n",
    "                ch for ch in text.upper() if ch.isalpha() or ch in [' ', '.']\n",
    "            )\n",
    "    # Strip any extra whitespace from the beginning and end\n",
    "    return cleaned_text.strip()\n",
    "#File Pathing\n",
    "paths = ['files/file1.txt', 'files/file2.txt', 'files/file3.txt', 'files/file4.txt', 'files/file5.txt']\n",
    "#Method called\n",
    "cleaned_text = clean_text(paths)"
   ]
  },
  {
   "cell_type": "code",
   "execution_count": 2,
   "id": "c177c0d6-b572-4f68-acd8-2d370beefacc",
   "metadata": {},
   "outputs": [],
   "source": [
    "# Task 2: Third-order letter approximation generation\n"
   ]
  }
 ],
 "metadata": {
  "kernelspec": {
   "display_name": "Python 3",
   "language": "python",
   "name": "python3"
  },
  "language_info": {
   "codemirror_mode": {
    "name": "ipython",
    "version": 3
   },
   "file_extension": ".py",
   "mimetype": "text/x-python",
   "name": "python",
   "nbconvert_exporter": "python",
   "pygments_lexer": "ipython3",
   "version": "3.12.5"
  }
 },
 "nbformat": 4,
 "nbformat_minor": 5
}
